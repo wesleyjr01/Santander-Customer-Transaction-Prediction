{
 "cells": [
  {
   "cell_type": "code",
   "execution_count": 2,
   "metadata": {},
   "outputs": [],
   "source": [
    "import pandas as pd\n",
    "import pickle\n",
    "from sklearn.svm import LinearSVC"
   ]
  },
  {
   "cell_type": "code",
   "execution_count": 3,
   "metadata": {},
   "outputs": [],
   "source": [
    "train = pd.read_pickle(\"train.pkl\").drop(\"ID_code\", axis=1)\n",
    "test = pd.read_pickle(\"test.pkl\")\n",
    "test_id = test['ID_code'].values\n",
    "test.drop(['ID_code'], axis=1, inplace=True)"
   ]
  },
  {
   "cell_type": "code",
   "execution_count": 6,
   "metadata": {},
   "outputs": [],
   "source": [
    "clf = LinearSVC(random_state=0,\n",
    "                tol=1e-3,\n",
    "                C=0.8,\n",
    "                dual=False,\n",
    "                penalty='l1',\n",
    "                verbose=1,\n",
    "                max_iter=1000)"
   ]
  },
  {
   "cell_type": "code",
   "execution_count": 8,
   "metadata": {},
   "outputs": [
    {
     "name": "stdout",
     "output_type": "stream",
     "text": [
      "[LibLinear]"
     ]
    },
    {
     "name": "stderr",
     "output_type": "stream",
     "text": [
      "/home/wesley/environments/flex/lib/python3.6/site-packages/sklearn/svm/base.py:931: ConvergenceWarning: Liblinear failed to converge, increase the number of iterations.\n",
      "  \"the number of iterations.\", ConvergenceWarning)\n"
     ]
    },
    {
     "data": {
      "text/plain": [
       "LinearSVC(C=0.8, class_weight=None, dual=False, fit_intercept=True,\n",
       "     intercept_scaling=1, loss='squared_hinge', max_iter=1000,\n",
       "     multi_class='ovr', penalty='l1', random_state=0, tol=0.001, verbose=1)"
      ]
     },
     "execution_count": 8,
     "metadata": {},
     "output_type": "execute_result"
    }
   ],
   "source": [
    "X = train.drop(['target'], axis=1)\n",
    "y = train.target\n",
    "clf.fit(X, y)"
   ]
  },
  {
   "cell_type": "code",
   "execution_count": 13,
   "metadata": {},
   "outputs": [
    {
     "data": {
      "text/plain": [
       "array([ 1.42379021e-02,  1.02983179e-02,  1.72373596e-02,  4.90435003e-03,\n",
       "        6.92047783e-03,  3.47136919e-03,  6.64695815e-02, -1.14734520e-04,\n",
       "        4.77733392e-03, -2.72122686e-02, -1.87591489e-04,  3.13437095e-03,\n",
       "       -2.95291776e-02, -9.81118665e-03, -1.44035708e-03,  3.46879035e-02,\n",
       "        2.62847161e-03, -1.37069757e-04,  4.44248746e-03,  1.16591119e-03,\n",
       "       -2.64637473e-03, -5.92615871e-03,  1.79085921e-02, -4.04711173e-02,\n",
       "        6.70848074e-03,  3.14157326e-02,  8.52402210e-03, -1.41873900e-03,\n",
       "       -2.39362135e-02,  2.35691131e-03, -8.72105310e-05, -9.97776126e-03,\n",
       "        9.94839203e-03, -8.75582052e-03, -6.27595833e-02,  5.94708014e-03,\n",
       "       -1.02862656e-02,  3.21954197e-03,  9.99960919e-05, -8.81516239e-04,\n",
       "        5.02005298e-03, -2.19449533e-04, -4.63393686e-03, -1.82986716e-02,\n",
       "       -6.95030929e-03, -8.15591456e-04,  1.87666568e-03,  7.66780629e-04,\n",
       "        2.42368468e-03,  3.13056847e-03, -9.26093472e-03,  2.31882207e-03,\n",
       "        4.38611620e-03,  7.22440628e-02, -1.59739336e-03,  2.82772350e-03,\n",
       "       -7.80168863e-03, -1.45062997e-02, -4.66831932e-03, -7.48462566e-03,\n",
       "        1.62784758e-03,  6.81672049e-04,  6.59217546e-03, -3.85218803e-03,\n",
       "       -6.92477555e-03,  2.15100803e-03,  1.75240045e-02,  5.17706452e-03,\n",
       "        5.89169184e-02,  1.23356916e-03,  1.97661454e-03,  1.05593243e-01,\n",
       "       -2.82222202e-03, -6.83331456e-04,  1.21643021e-03, -5.19812963e-03,\n",
       "       -6.52519212e-03, -3.61164700e-03,  2.08087563e-02,  6.24128823e-03,\n",
       "       -6.31826454e-03, -2.78036049e-02,  2.12396263e-03, -2.10731850e-03,\n",
       "        1.44312077e-03, -4.38992434e-03, -4.15451319e-03, -5.25078755e-03,\n",
       "       -5.86906497e-03,  9.33614565e-03,  1.76375021e-03,  1.19321292e-01,\n",
       "       -8.69419686e-03, -3.82332927e-02,  1.48146506e-02,  5.17281955e-02,\n",
       "        3.06656648e-04,  1.01353879e-03, -3.33107022e-03,  2.62927574e-02,\n",
       "        1.83204413e-04, -1.53129021e-03, -1.69871470e-03,  3.62300567e-03,\n",
       "       -1.13882430e-02,  2.60178584e-02,  1.49140865e-02, -4.51041714e-03,\n",
       "       -8.83703146e-03, -8.97012553e-03,  1.38121126e-02,  2.10261169e-02,\n",
       "        1.25444448e-02, -2.64657351e-03, -2.05147655e-02, -1.53948569e-02,\n",
       "       -1.20673064e-02,  2.18143197e-04,  3.78943159e-03,  5.83469679e-03,\n",
       "       -6.20606677e-04, -1.84516350e-02, -6.95482355e-03, -5.24573409e-03,\n",
       "        1.55376073e-03,  5.42355345e-02,  8.52854768e-03, -1.02047628e-02,\n",
       "        7.06771524e-03, -1.15020986e-03,  3.42872226e-02, -5.50309241e-02,\n",
       "       -1.41102078e-02,  1.23134683e-01,  2.31533247e-03,  2.93814656e-03,\n",
       "       -2.53025399e-04,  2.71229509e-03,  3.33074506e-03, -7.75573210e-03,\n",
       "        3.03561594e-03, -3.72647881e-03, -2.69254430e-03, -3.26804077e-03,\n",
       "        2.08338406e-02,  6.49754349e-03, -2.07160208e-02,  4.32178347e-03,\n",
       "       -1.75783038e-01, -3.63590340e-03, -8.91388499e-03,  6.08383000e-03,\n",
       "       -2.69418504e-03, -1.13454423e-03, -7.37563827e-03,  5.32836729e-03,\n",
       "       -1.36726406e-02,  4.68946698e-03, -4.12078075e-04,  3.12004765e-03,\n",
       "       -2.63118498e-04,  3.97430214e-02,  1.88444810e-02,  5.03077755e-03,\n",
       "        6.24526295e-03, -8.81758528e-03, -1.19267445e-01,  3.20416769e-03,\n",
       "        3.84448396e-03, -9.31564951e-02,  9.08598578e-03,  2.21698393e-03,\n",
       "       -3.64489306e-03,  6.01314070e-03, -7.04063957e-03,  6.90365980e-03,\n",
       "        9.98279881e-04, -1.17599261e-02, -1.80579660e-03,  1.51103216e-02,\n",
       "        4.91644086e-03,  1.04204897e-02, -8.44628991e-04, -6.79240198e-04,\n",
       "        4.39019498e-03, -2.17943167e-04, -7.54401240e-03,  1.13343883e-03,\n",
       "       -7.19184683e-03,  6.78060868e-03,  1.03762498e-02,  1.31249663e-02,\n",
       "       -2.41131652e-02, -3.75652245e-03, -5.40542462e-03,  1.67087835e-02,\n",
       "        3.48797944e-03, -3.09921859e-02, -1.41833242e-02,  1.94247265e-03])"
      ]
     },
     "execution_count": 13,
     "metadata": {},
     "output_type": "execute_result"
    }
   ],
   "source": [
    "clf.coef_.ravel()"
   ]
  },
  {
   "cell_type": "code",
   "execution_count": 11,
   "metadata": {},
   "outputs": [
    {
     "ename": "AttributeError",
     "evalue": "'LinearSVC' object has no attribute 'fea'",
     "output_type": "error",
     "traceback": [
      "\u001b[0;31m---------------------------------------------------------------------------\u001b[0m",
      "\u001b[0;31mAttributeError\u001b[0m                            Traceback (most recent call last)",
      "\u001b[0;32m<ipython-input-11-687901c4e03c>\u001b[0m in \u001b[0;36m<module>\u001b[0;34m\u001b[0m\n\u001b[0;32m----> 1\u001b[0;31m \u001b[0mclf\u001b[0m\u001b[0;34m.\u001b[0m\u001b[0mfea\u001b[0m\u001b[0;34m\u001b[0m\u001b[0;34m\u001b[0m\u001b[0m\n\u001b[0m",
      "\u001b[0;31mAttributeError\u001b[0m: 'LinearSVC' object has no attribute 'fea'"
     ]
    }
   ],
   "source": [
    "clf."
   ]
  }
 ],
 "metadata": {
  "kernelspec": {
   "display_name": "Python 3",
   "language": "python",
   "name": "python3"
  },
  "language_info": {
   "codemirror_mode": {
    "name": "ipython",
    "version": 3
   },
   "file_extension": ".py",
   "mimetype": "text/x-python",
   "name": "python",
   "nbconvert_exporter": "python",
   "pygments_lexer": "ipython3",
   "version": "3.6.7"
  }
 },
 "nbformat": 4,
 "nbformat_minor": 2
}
